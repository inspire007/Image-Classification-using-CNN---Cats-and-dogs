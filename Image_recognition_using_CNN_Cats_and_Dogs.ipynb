{
  "cells": [
    {
      "cell_type": "markdown",
      "metadata": {
        "id": "view-in-github",
        "colab_type": "text"
      },
      "source": [
        "<a href=\"https://colab.research.google.com/github/inspire007/Image-Recognition-using-CNN---Cats-and-dogs/blob/main/Image_recognition_using_CNN_Cats_and_Dogs.ipynb\" target=\"_parent\"><img src=\"https://colab.research.google.com/assets/colab-badge.svg\" alt=\"Open In Colab\"/></a>"
      ]
    },
    {
      "cell_type": "code",
      "execution_count": null,
      "metadata": {
        "id": "AywOD2ESqwOw"
      },
      "outputs": [],
      "source": [
        "import numpy as np\n",
        "import tensorflow as tf\n",
        "from tensorflow.keras.models import Sequential\n",
        "from tensorflow.keras.layers import Dense, Conv2D, Flatten, MaxPool2D, Dropout\n",
        "from tensorflow.keras.preprocessing.image import ImageDataGenerator\n",
        "from tensorflow.keras.preprocessing import image as kImg\n",
        "import os\n",
        "os.environ['KMP_DUPLICATE_LIB_OK'] = 'True'"
      ]
    },
    {
      "cell_type": "code",
      "execution_count": null,
      "metadata": {
        "id": "HwnJDx7VtDpj",
        "outputId": "f945ebfe-2e66-4410-a040-9e8ee8ccaa77"
      },
      "outputs": [
        {
          "name": "stdout",
          "output_type": "stream",
          "text": [
            "Found 8000 images belonging to 2 classes.\n",
            "Found 2000 images belonging to 2 classes.\n"
          ]
        }
      ],
      "source": [
        "imgs = ImageDataGenerator(rescale=1./255, shear_range=0.2, zoom_range=0.2, horizontal_flip=True)\n",
        "dataset = imgs.flow_from_directory('dataset/training_set', target_size=(64,64), batch_size=32, class_mode='binary')\n",
        "\n",
        "test_imgs = ImageDataGenerator(rescale=1./255)\n",
        "test_dataset = test_imgs.flow_from_directory('dataset/test_set', target_size=(64,64), batch_size=32, class_mode='binary')"
      ]
    },
    {
      "cell_type": "code",
      "execution_count": null,
      "metadata": {
        "id": "Kvcq8PImvgZS"
      },
      "outputs": [],
      "source": [
        "cnn = Sequential([\n",
        "    Conv2D(filters=64, kernel_size=3, activation='relu', input_shape=[64,64,3]),\n",
        "    Dropout(0.5),\n",
        "    MaxPool2D(pool_size=2, strides=2),\n",
        "    Conv2D(filters=64, kernel_size=3, activation='relu'),\n",
        "    MaxPool2D(pool_size=2, strides=2),\n",
        "    Flatten(),\n",
        "    Dense(units=128, activation='relu'),\n",
        "    Dropout(0.5),\n",
        "    Dense(units=1, activation='sigmoid')\n",
        "])"
      ]
    },
    {
      "cell_type": "code",
      "execution_count": null,
      "metadata": {
        "id": "3xCZ38kwxB-z"
      },
      "outputs": [],
      "source": [
        "cnn.compile(optimizer='adam', loss='binary_crossentropy', metrics=['accuracy'])"
      ]
    },
    {
      "cell_type": "code",
      "execution_count": null,
      "metadata": {
        "id": "jcBK9D9IxPMr",
        "outputId": "f54bbf93-3a7c-4ccc-a6f3-9109185c685e"
      },
      "outputs": [
        {
          "name": "stdout",
          "output_type": "stream",
          "text": [
            "Epoch 1/25\n",
            "250/250 [==============================] - 51s 201ms/step - loss: 0.6955 - accuracy: 0.5462 - val_loss: 0.6722 - val_accuracy: 0.5955\n",
            "Epoch 2/25\n",
            "250/250 [==============================] - 50s 201ms/step - loss: 0.6602 - accuracy: 0.6110 - val_loss: 0.6559 - val_accuracy: 0.6300\n",
            "Epoch 3/25\n",
            "250/250 [==============================] - 50s 198ms/step - loss: 0.6425 - accuracy: 0.6335 - val_loss: 0.6315 - val_accuracy: 0.6625\n",
            "Epoch 4/25\n",
            "250/250 [==============================] - 52s 206ms/step - loss: 0.6159 - accuracy: 0.6611 - val_loss: 0.6064 - val_accuracy: 0.6765\n",
            "Epoch 5/25\n",
            "250/250 [==============================] - 62s 249ms/step - loss: 0.5986 - accuracy: 0.6765 - val_loss: 0.5807 - val_accuracy: 0.7220\n",
            "Epoch 6/25\n",
            "250/250 [==============================] - 64s 257ms/step - loss: 0.5774 - accuracy: 0.6916 - val_loss: 0.5709 - val_accuracy: 0.7130\n",
            "Epoch 7/25\n",
            "250/250 [==============================] - 49s 193ms/step - loss: 0.5587 - accuracy: 0.7124 - val_loss: 0.5528 - val_accuracy: 0.7375\n",
            "Epoch 8/25\n",
            "250/250 [==============================] - 51s 203ms/step - loss: 0.5423 - accuracy: 0.7218 - val_loss: 0.5487 - val_accuracy: 0.7255\n",
            "Epoch 9/25\n",
            "250/250 [==============================] - 48s 193ms/step - loss: 0.5215 - accuracy: 0.7387 - val_loss: 0.5536 - val_accuracy: 0.7385\n",
            "Epoch 10/25\n",
            "250/250 [==============================] - 66s 265ms/step - loss: 0.5088 - accuracy: 0.7511 - val_loss: 0.5578 - val_accuracy: 0.7090\n",
            "Epoch 11/25\n",
            "250/250 [==============================] - 153s 615ms/step - loss: 0.4914 - accuracy: 0.7661 - val_loss: 0.5095 - val_accuracy: 0.7540\n",
            "Epoch 12/25\n",
            "250/250 [==============================] - 88s 350ms/step - loss: 0.4808 - accuracy: 0.7713 - val_loss: 0.5269 - val_accuracy: 0.7410\n",
            "Epoch 13/25\n",
            "250/250 [==============================] - 49s 198ms/step - loss: 0.4598 - accuracy: 0.7795 - val_loss: 0.5422 - val_accuracy: 0.7395\n",
            "Epoch 14/25\n",
            "250/250 [==============================] - 50s 200ms/step - loss: 0.4531 - accuracy: 0.7868 - val_loss: 0.5020 - val_accuracy: 0.7715\n",
            "Epoch 15/25\n",
            "250/250 [==============================] - 70s 281ms/step - loss: 0.4415 - accuracy: 0.7993 - val_loss: 0.5021 - val_accuracy: 0.7560\n",
            "Epoch 16/25\n",
            "250/250 [==============================] - 65s 260ms/step - loss: 0.4335 - accuracy: 0.7966 - val_loss: 0.4913 - val_accuracy: 0.7880\n",
            "Epoch 17/25\n",
            "250/250 [==============================] - 49s 195ms/step - loss: 0.4201 - accuracy: 0.8052 - val_loss: 0.4897 - val_accuracy: 0.7790\n",
            "Epoch 18/25\n",
            "250/250 [==============================] - 61s 244ms/step - loss: 0.4058 - accuracy: 0.8180 - val_loss: 0.4981 - val_accuracy: 0.7760\n",
            "Epoch 19/25\n",
            "250/250 [==============================] - 53s 211ms/step - loss: 0.3957 - accuracy: 0.8186 - val_loss: 0.4890 - val_accuracy: 0.7785\n",
            "Epoch 20/25\n",
            "250/250 [==============================] - 66s 264ms/step - loss: 0.3868 - accuracy: 0.8234 - val_loss: 0.4864 - val_accuracy: 0.7900\n",
            "Epoch 21/25\n",
            "250/250 [==============================] - 67s 269ms/step - loss: 0.3765 - accuracy: 0.8301 - val_loss: 0.4759 - val_accuracy: 0.7885\n",
            "Epoch 22/25\n",
            "250/250 [==============================] - 53s 211ms/step - loss: 0.3670 - accuracy: 0.8367 - val_loss: 0.5010 - val_accuracy: 0.7785\n",
            "Epoch 23/25\n",
            "250/250 [==============================] - 53s 211ms/step - loss: 0.3459 - accuracy: 0.8457 - val_loss: 0.4683 - val_accuracy: 0.7995\n",
            "Epoch 24/25\n",
            "250/250 [==============================] - 51s 202ms/step - loss: 0.3396 - accuracy: 0.8525 - val_loss: 0.4822 - val_accuracy: 0.7895\n",
            "Epoch 25/25\n",
            "250/250 [==============================] - 70s 277ms/step - loss: 0.3436 - accuracy: 0.8515 - val_loss: 0.4909 - val_accuracy: 0.7850\n"
          ]
        },
        {
          "data": {
            "text/plain": [
              "<keras.callbacks.History at 0x19a39fc7c10>"
            ]
          },
          "execution_count": 16,
          "metadata": {},
          "output_type": "execute_result"
        }
      ],
      "source": [
        "cnn.fit(x = dataset, validation_data=test_dataset, epochs=25)"
      ]
    },
    {
      "cell_type": "code",
      "execution_count": null,
      "metadata": {
        "id": "qUGXcDO4L2Ll"
      },
      "outputs": [],
      "source": [
        "cnn.save('cat_dog_model.h5')"
      ]
    },
    {
      "cell_type": "code",
      "execution_count": null,
      "metadata": {
        "id": "Uul_FQr4L2Ll"
      },
      "outputs": [],
      "source": [
        "#cnn = tf.keras.models.load_model('cat_dog_model.h5')\n",
        "#cnn.compile(loss='binary_crossentropy', optimizer='adam', metrics=['accuracy'])"
      ]
    },
    {
      "cell_type": "code",
      "execution_count": null,
      "metadata": {
        "id": "uxm8C5ZBL2Lm"
      },
      "outputs": [],
      "source": [
        "#single prediction\n",
        "def pred_img(path):\n",
        "    img = kImg.load_img(path, target_size=(64,64))\n",
        "    img = kImg.img_to_array(img)\n",
        "    #img = img/255\n",
        "    img = np.expand_dims(img, axis=0)\n",
        "    pred = cnn.predict(img)\n",
        "    print(pred)\n",
        "    if pred[0][0] > 0.5:\n",
        "        return 'Dog'\n",
        "    else:\n",
        "        return 'Cat'"
      ]
    },
    {
      "cell_type": "code",
      "execution_count": null,
      "metadata": {
        "id": "iZ6YVUeeL2Lm",
        "outputId": "3c96a8e5-5374-42c3-bb6a-9f12857ae330"
      },
      "outputs": [
        {
          "name": "stdout",
          "output_type": "stream",
          "text": [
            "1/1 [==============================] - 0s 87ms/step\n",
            "[[1.]]\n",
            "File test\\cat3.jpg: Dog\n",
            "1/1 [==============================] - 0s 21ms/step\n",
            "[[1.]]\n",
            "File test\\cat4.jpg: Dog\n",
            "1/1 [==============================] - 0s 17ms/step\n",
            "[[1.]]\n",
            "File test\\cat5.jpg: Dog\n",
            "1/1 [==============================] - 0s 29ms/step\n",
            "[[1.]]\n",
            "File test\\cat6.jpg: Dog\n",
            "1/1 [==============================] - 0s 29ms/step\n",
            "[[0.]]\n",
            "File test\\cat7.jpg: Cat\n",
            "1/1 [==============================] - 0s 21ms/step\n",
            "[[1.]]\n",
            "File test\\dog2.jpg: Dog\n",
            "1/1 [==============================] - 0s 23ms/step\n",
            "[[1.]]\n",
            "File test\\dog3.jpg: Dog\n"
          ]
        }
      ],
      "source": [
        "for image in os.listdir('test'):\n",
        "    path = os.path.join('test', image)\n",
        "    pred = pred_img(path)\n",
        "    print(f'File {path}: {pred}')"
      ]
    }
  ],
  "metadata": {
    "colab": {
      "provenance": [],
      "include_colab_link": true
    },
    "kernelspec": {
      "display_name": "Python 3 (ipykernel)",
      "language": "python",
      "name": "python3"
    },
    "language_info": {
      "codemirror_mode": {
        "name": "ipython",
        "version": 3
      },
      "file_extension": ".py",
      "mimetype": "text/x-python",
      "name": "python",
      "nbconvert_exporter": "python",
      "pygments_lexer": "ipython3",
      "version": "3.10.13"
    }
  },
  "nbformat": 4,
  "nbformat_minor": 0
}