{
 "cells": [
  {
   "cell_type": "markdown",
   "metadata": {
    "colab_type": "text",
    "id": "view-in-github"
   },
   "source": [
    "<a href=\"https://colab.research.google.com/github/inspire007/Image-Recognition-using-CNN---Cats-and-dogs/blob/main/Image_recognition_using_CNN_Cats_and_Dogs.ipynb\" target=\"_parent\"><img src=\"https://colab.research.google.com/assets/colab-badge.svg\" alt=\"Open In Colab\"/></a>"
   ]
  },
  {
   "cell_type": "code",
   "execution_count": 1,
   "metadata": {
    "id": "AywOD2ESqwOw"
   },
   "outputs": [],
   "source": [
    "import numpy as np\n",
    "import tensorflow as tf\n",
    "from tensorflow.keras.models import Sequential\n",
    "from tensorflow.keras.layers import Dense, Conv2D, Flatten, MaxPool2D, Dropout\n",
    "from tensorflow.keras.preprocessing.image import ImageDataGenerator\n",
    "from tensorflow.keras.preprocessing import image as kImg\n",
    "import os\n",
    "os.environ['KMP_DUPLICATE_LIB_OK'] = 'True'"
   ]
  },
  {
   "cell_type": "code",
   "execution_count": 2,
   "metadata": {},
   "outputs": [
    {
     "name": "stdout",
     "output_type": "stream",
     "text": [
      "2.4.1\n",
      "GPU available: [PhysicalDevice(name='/physical_device:GPU:0', device_type='GPU')]\n"
     ]
    }
   ],
   "source": [
    "print(tf.__version__)\n",
    "print(\"GPU available:\", tf.config.list_physical_devices('GPU'))"
   ]
  },
  {
   "cell_type": "code",
   "execution_count": 3,
   "metadata": {
    "id": "HwnJDx7VtDpj",
    "outputId": "f945ebfe-2e66-4410-a040-9e8ee8ccaa77"
   },
   "outputs": [
    {
     "name": "stdout",
     "output_type": "stream",
     "text": [
      "Found 8000 images belonging to 2 classes.\n",
      "Found 2000 images belonging to 2 classes.\n"
     ]
    }
   ],
   "source": [
    "imgs = ImageDataGenerator(rescale=1./255, shear_range=0.2, zoom_range=0.2, horizontal_flip=True)\n",
    "dataset = imgs.flow_from_directory('dataset/training_set', target_size=(64,64), batch_size=32, class_mode='binary')\n",
    "\n",
    "test_imgs = ImageDataGenerator(rescale=1./255)\n",
    "test_dataset = test_imgs.flow_from_directory('dataset/test_set', target_size=(64,64), batch_size=32, class_mode='binary')"
   ]
  },
  {
   "cell_type": "code",
   "execution_count": 4,
   "metadata": {
    "id": "Kvcq8PImvgZS"
   },
   "outputs": [],
   "source": [
    "cnn = Sequential([\n",
    "    Conv2D(filters=64, kernel_size=3, activation='relu', input_shape=[64,64,3]),\n",
    "    Dropout(0.5),\n",
    "    MaxPool2D(pool_size=2, strides=2),\n",
    "    Conv2D(filters=64, kernel_size=3, activation='relu'),\n",
    "    MaxPool2D(pool_size=2, strides=2),\n",
    "    Flatten(),\n",
    "    Dense(units=128, activation='relu'),\n",
    "    Dropout(0.5),\n",
    "    Dense(units=1, activation='sigmoid')\n",
    "])"
   ]
  },
  {
   "cell_type": "code",
   "execution_count": 5,
   "metadata": {
    "id": "3xCZ38kwxB-z"
   },
   "outputs": [],
   "source": [
    "cnn.compile(optimizer='adam', loss='binary_crossentropy', metrics=['accuracy'])"
   ]
  },
  {
   "cell_type": "code",
   "execution_count": 6,
   "metadata": {
    "id": "jcBK9D9IxPMr",
    "outputId": "f54bbf93-3a7c-4ccc-a6f3-9109185c685e"
   },
   "outputs": [
    {
     "name": "stdout",
     "output_type": "stream",
     "text": [
      "Epoch 1/25\n",
      "250/250 [==============================] - 87s 333ms/step - loss: 0.7198 - accuracy: 0.5272 - val_loss: 0.6748 - val_accuracy: 0.5950\n",
      "Epoch 2/25\n",
      "250/250 [==============================] - 48s 192ms/step - loss: 0.6695 - accuracy: 0.5979 - val_loss: 0.6573 - val_accuracy: 0.6305\n",
      "Epoch 3/25\n",
      "250/250 [==============================] - 31s 123ms/step - loss: 0.6439 - accuracy: 0.6229 - val_loss: 0.6341 - val_accuracy: 0.6490\n",
      "Epoch 4/25\n",
      "250/250 [==============================] - 28s 111ms/step - loss: 0.6177 - accuracy: 0.6615 - val_loss: 0.5871 - val_accuracy: 0.7125\n",
      "Epoch 5/25\n",
      "250/250 [==============================] - 30s 118ms/step - loss: 0.5927 - accuracy: 0.6761 - val_loss: 0.5827 - val_accuracy: 0.7255\n",
      "Epoch 6/25\n",
      "250/250 [==============================] - 33s 134ms/step - loss: 0.5572 - accuracy: 0.7032 - val_loss: 0.5409 - val_accuracy: 0.7490\n",
      "Epoch 7/25\n",
      "250/250 [==============================] - 33s 131ms/step - loss: 0.5274 - accuracy: 0.7319 - val_loss: 0.5362 - val_accuracy: 0.7470\n",
      "Epoch 8/25\n",
      "250/250 [==============================] - 33s 131ms/step - loss: 0.5266 - accuracy: 0.7350 - val_loss: 0.5262 - val_accuracy: 0.7585\n",
      "Epoch 9/25\n",
      "250/250 [==============================] - 29s 117ms/step - loss: 0.5074 - accuracy: 0.7510 - val_loss: 0.5173 - val_accuracy: 0.7670\n",
      "Epoch 10/25\n",
      "250/250 [==============================] - 30s 120ms/step - loss: 0.4876 - accuracy: 0.7663 - val_loss: 0.5012 - val_accuracy: 0.7690\n",
      "Epoch 11/25\n",
      "250/250 [==============================] - 29s 116ms/step - loss: 0.4741 - accuracy: 0.7733 - val_loss: 0.5108 - val_accuracy: 0.7685\n",
      "Epoch 12/25\n",
      "250/250 [==============================] - 30s 121ms/step - loss: 0.4686 - accuracy: 0.7795 - val_loss: 0.4735 - val_accuracy: 0.7825\n",
      "Epoch 13/25\n",
      "250/250 [==============================] - 31s 124ms/step - loss: 0.4454 - accuracy: 0.7900 - val_loss: 0.4730 - val_accuracy: 0.7820\n",
      "Epoch 14/25\n",
      "250/250 [==============================] - 31s 125ms/step - loss: 0.4303 - accuracy: 0.7996 - val_loss: 0.4725 - val_accuracy: 0.7890\n",
      "Epoch 15/25\n",
      "250/250 [==============================] - 31s 125ms/step - loss: 0.4318 - accuracy: 0.7982 - val_loss: 0.4650 - val_accuracy: 0.7835\n",
      "Epoch 16/25\n",
      "250/250 [==============================] - 32s 127ms/step - loss: 0.4044 - accuracy: 0.8171 - val_loss: 0.4623 - val_accuracy: 0.7940\n",
      "Epoch 17/25\n",
      "250/250 [==============================] - 41s 166ms/step - loss: 0.3895 - accuracy: 0.8211 - val_loss: 0.4572 - val_accuracy: 0.7930\n",
      "Epoch 18/25\n",
      "250/250 [==============================] - 42s 168ms/step - loss: 0.3765 - accuracy: 0.8290 - val_loss: 0.4544 - val_accuracy: 0.7960\n",
      "Epoch 19/25\n",
      "250/250 [==============================] - 41s 163ms/step - loss: 0.3851 - accuracy: 0.8246 - val_loss: 0.4446 - val_accuracy: 0.8000\n",
      "Epoch 20/25\n",
      "250/250 [==============================] - 39s 157ms/step - loss: 0.3739 - accuracy: 0.8309 - val_loss: 0.4348 - val_accuracy: 0.8035\n",
      "Epoch 21/25\n",
      "250/250 [==============================] - 40s 158ms/step - loss: 0.3626 - accuracy: 0.8413 - val_loss: 0.4388 - val_accuracy: 0.8005\n",
      "Epoch 22/25\n",
      "250/250 [==============================] - 41s 162ms/step - loss: 0.3387 - accuracy: 0.8477 - val_loss: 0.5023 - val_accuracy: 0.7685\n",
      "Epoch 23/25\n",
      "250/250 [==============================] - 42s 168ms/step - loss: 0.3437 - accuracy: 0.8417 - val_loss: 0.4417 - val_accuracy: 0.8005\n",
      "Epoch 24/25\n",
      "250/250 [==============================] - 42s 169ms/step - loss: 0.3213 - accuracy: 0.8686 - val_loss: 0.4372 - val_accuracy: 0.8130\n",
      "Epoch 25/25\n",
      "250/250 [==============================] - 43s 174ms/step - loss: 0.3419 - accuracy: 0.8519 - val_loss: 0.4331 - val_accuracy: 0.8040\n"
     ]
    }
   ],
   "source": [
    "with tf.device('/GPU:0'):\n",
    "    cnn.fit(x = dataset, validation_data=test_dataset, epochs=25)"
   ]
  },
  {
   "cell_type": "code",
   "execution_count": 7,
   "metadata": {
    "id": "qUGXcDO4L2Ll"
   },
   "outputs": [],
   "source": [
    "cnn.save('cat_dog_model.h5')"
   ]
  },
  {
   "cell_type": "code",
   "execution_count": 8,
   "metadata": {
    "id": "Uul_FQr4L2Ll"
   },
   "outputs": [],
   "source": [
    "#cnn = tf.keras.models.load_model('cat_dog_model.h5')\n",
    "#cnn.compile(loss='binary_crossentropy', optimizer='adam', metrics=['accuracy'])"
   ]
  },
  {
   "cell_type": "code",
   "execution_count": 20,
   "metadata": {
    "id": "uxm8C5ZBL2Lm"
   },
   "outputs": [],
   "source": [
    "#single prediction\n",
    "def pred_img(path):\n",
    "    img = kImg.load_img(path, target_size=(64,64))\n",
    "    img = kImg.img_to_array(img)\n",
    "    img = img/255\n",
    "    img = np.expand_dims(img, axis=0)\n",
    "    pred = cnn.predict(img)\n",
    "    print(pred)\n",
    "    if pred[0][0] > 0.6:\n",
    "        return 'Dog'\n",
    "    else:\n",
    "        return 'Cat'"
   ]
  },
  {
   "cell_type": "code",
   "execution_count": 21,
   "metadata": {
    "id": "iZ6YVUeeL2Lm",
    "outputId": "3c96a8e5-5374-42c3-bb6a-9f12857ae330"
   },
   "outputs": [
    {
     "name": "stdout",
     "output_type": "stream",
     "text": [
      "[[0.00015969]]\n",
      "File test\\cat1.jpg: Cat\n",
      "[[0.4272664]]\n",
      "File test\\cat2.jpg: Cat\n",
      "[[0.3814422]]\n",
      "File test\\cat3.jpg: Cat\n",
      "[[0.57982963]]\n",
      "File test\\cat4.jpg: Cat\n",
      "[[0.6104696]]\n",
      "File test\\cat5.jpg: Dog\n",
      "[[0.9993249]]\n",
      "File test\\dog1.jpg: Dog\n",
      "[[0.9742425]]\n",
      "File test\\dog2.jpg: Dog\n",
      "[[0.95058227]]\n",
      "File test\\dog3.jpg: Dog\n"
     ]
    }
   ],
   "source": [
    "for image in os.listdir('test'):\n",
    "    path = os.path.join('test', image)\n",
    "    pred = pred_img(path)\n",
    "    print(f'File {path}: {pred}')"
   ]
  },
  {
   "cell_type": "code",
   "execution_count": null,
   "metadata": {},
   "outputs": [],
   "source": []
  }
 ],
 "metadata": {
  "colab": {
   "include_colab_link": true,
   "provenance": []
  },
  "kernelspec": {
   "display_name": "Python 3 (ipykernel)",
   "language": "python",
   "name": "python3"
  },
  "language_info": {
   "codemirror_mode": {
    "name": "ipython",
    "version": 3
   },
   "file_extension": ".py",
   "mimetype": "text/x-python",
   "name": "python",
   "nbconvert_exporter": "python",
   "pygments_lexer": "ipython3",
   "version": "3.8.20"
  }
 },
 "nbformat": 4,
 "nbformat_minor": 4
}
